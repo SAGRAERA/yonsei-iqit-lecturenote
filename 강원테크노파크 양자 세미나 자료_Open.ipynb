{
 "cells": [
  {
   "cell_type": "markdown",
   "metadata": {},
   "source": [
    "# 양자 컴퓨팅 and Qiskit\n",
    "___"
   ]
  },
  {
   "cell_type": "markdown",
   "metadata": {},
   "source": [
    "## <b>Qiskit Tutorial</b>"
   ]
  },
  {
   "cell_type": "markdown",
   "metadata": {},
   "source": [
    "### Qiskit 준비하기"
   ]
  },
  {
   "cell_type": "markdown",
   "metadata": {},
   "source": [
    "#### 1. Qiskit 설치 및 확인"
   ]
  },
  {
   "cell_type": "markdown",
   "metadata": {},
   "source": [
    "1.  Qiskit 설치 (머신러닝, 파이낸스 등 모든 라이브러리 한번에 설치)\n",
    "\n",
    "`pip install qiskit[all]`\n",
    "\n",
    "#### 패키지 설치 확인\n",
    "설치가 잘 되었는지 다음의 명령어를 실행해서 확인해 봅시다."
   ]
  },
  {
   "cell_type": "code",
   "execution_count": null,
   "metadata": {},
   "outputs": [],
   "source": [
    "import qiskit.tools.jupyter\n",
    "%qiskit_version_table"
   ]
  },
  {
   "cell_type": "markdown",
   "metadata": {},
   "source": [
    "2. IBM Quantum Lab\n",
    "\n",
    "Qiskit은 계속해서 업데이트 되어, 매번 Qiskit을 업데이트 하기 불편한 경우도 많습니다.<br>\n",
    "또한, 기존에 제공되었던 튜토리얼이나 예제들이 작동 안될 때가 종종 있습니다.\n",
    "\n",
    "\n",
    "그리고 노트북(맥북 등)과 같은 로컬 컴퓨터로 Qiskit을 사용하다보면 GPU 연산이나, 최적화 등에 문제가 생겨 연산 시간이 오래 걸리는 경우도 많습니다.<br>\n",
    "\n",
    "IBM에서 Quantum Lab 을 제공하여, 클라우드로 Jyputer notebook 환경을 사용할 수 있습니다. <br> \n",
    "\n",
    "링크: https://quantum-computing.ibm.com/lab\n",
    "(회원가입 필요)\n",
    "\n",
    "<img src='img/QuantumLab.png' alt=\"IBM Qunatum lab image\" width=800/>\n"
   ]
  },
  {
   "cell_type": "markdown",
   "metadata": {},
   "source": [
    "3. 설치 후 할일(API 토큰 연결)\n",
    "\n",
    "실제 양자 컴퓨터에 여러분이 작성한 코드를 실행시키려면, API 토큰을 발급받아 권한을 인증받아야 합니다.<br>\n",
    "\n",
    "링크: https://quantum-computing.ibm.com/\n",
    "\n",
    "해당 링크에서 API Token을 발급받아 사용하면 됩니다.\n",
    "\n",
    "<img src='img/APItoken.png' alt=\"API Token Image\" width=800/>"
   ]
  },
  {
   "cell_type": "code",
   "execution_count": null,
   "metadata": {},
   "outputs": [],
   "source": [
    "from qiskit import *\n",
    "from qiskit_ibm_provider import IBMProvider\n",
    "\n",
    "IBMProvider.save_account(\"Your_Token\", overwrite=True)\n",
    "provider = IBMProvider()\n"
   ]
  },
  {
   "cell_type": "markdown",
   "metadata": {},
   "source": [
    "만약 앞서 말한 IBM Quantum Lab에서 사용 중이며 IBM Quantum Hub에 등록된 경우, API 발급은 생략하여도 됩니다."
   ]
  },
  {
   "cell_type": "markdown",
   "metadata": {},
   "source": [
    "이제 모든 준비가 완료되었습니다. 이제 양자 컴퓨터를 프로그래밍 하는 법에 대해 알아봅시다.\n",
    "\n",
    "---"
   ]
  },
  {
   "cell_type": "markdown",
   "metadata": {},
   "source": [
    "<div class=\"alert alert-info\">\n",
    "   <div>\n",
    "       <big><b>Quiz!</b></big>\n",
    "   </div>\n",
    "   <br>\n",
    "    아래 링크에 접속해주세요~!\n",
    "\n",
    "    https://ahaslides.com/GDKEP\n",
    "\n",
    "    \n",
    "</div>"
   ]
  },
  {
   "cell_type": "markdown",
   "metadata": {},
   "source": [
    "<img src='img/Quiz_QR.png' alt=\"Quiz QR\" width=600/>\n"
   ]
  },
  {
   "cell_type": "markdown",
   "metadata": {},
   "source": [
    "## <b>1. 양자 컴퓨팅</b>"
   ]
  },
  {
   "cell_type": "markdown",
   "metadata": {},
   "source": [
    "여러분은 요즘 '양자 컴퓨터를 사용하면 빠르다!' 혹은 '양자 컴퓨터는 기존 컴퓨터의 성능을 아득히 뛰어넘는 컴퓨터다' 또는 '양자 컴퓨팅을 쓰면 우리가 알고있는 모든 암호가 다 파훼된다.'라는 말을 들으셨을 겁니다.<br>\n",
    "과연 양자 컴퓨팅이 무엇이길래 이런 걸까요?"
   ]
  },
  {
   "cell_type": "markdown",
   "metadata": {},
   "source": [
    "### 1-1. 양자적 문제와 양자 컴퓨터"
   ]
  },
  {
   "cell_type": "markdown",
   "metadata": {},
   "source": [
    "양자 컴퓨터에 대한 개념은 리차드 파인만이 처음 제시된 것으로 우리는 알고 있습니다.\n",
    "\n",
    "\n",
    "<img src='img/Lichard.png' alt=\"Quantum\" width=800/>"
   ]
  },
  {
   "cell_type": "markdown",
   "metadata": {},
   "source": [
    "그는 '양자 적으로 계산하는 컴퓨터가 있으면 양자 현상을 좀더 쉽게 풀수 있지 않을까?'라는 제안을 했죠. <b>물리학자</b>라면 납득이 가는 말일 수 있습니다. 물리 연구자들, 특히 양자 물리를 연구하는 사람들은 심하게 고개를 끄덕일 지도 모릅니다. 그럼 과연 <b>양자적인 문제</b>는 무엇일까요?<br>"
   ]
  },
  {
   "cell_type": "markdown",
   "metadata": {},
   "source": [
    "물리학자들이 어떤 현상을 시뮬레이션해서 푸는 것은 다음 과정을 거칩니다. 이것이 바로 현상(자연현상)을 양자적으로 계산하는 것이지요."
   ]
  },
  {
   "cell_type": "markdown",
   "metadata": {},
   "source": [
    "<img src='img/What_Do_Physicists_Do.png' alt=\"What do we do?\" width=800/>"
   ]
  },
  {
   "cell_type": "markdown",
   "metadata": {},
   "source": [
    "어떤 현상을 `Hamiltonain` 시스템으로 만들고, 그것의 고윳값을 구하는 것이 ~~모든~~ 대부분의 물리학자들이 하는 연구입니다.<br> 그중에서 특히 가장 낮은 기저상태를 구하는 것이 중요하죠."
   ]
  },
  {
   "cell_type": "markdown",
   "metadata": {},
   "source": [
    "물론 어려운 점은 존재합니다. 첫번째로,<br>\n",
    "\n",
    "<img src='img/Difficult_point_1.png' alt=\"Difficult Point 1\" width=800/><br>\n",
    "\n",
    "시스템을 `Hamiltonian`으로 잘 만든다는게 어렵죠."
   ]
  },
  {
   "cell_type": "markdown",
   "metadata": {},
   "source": [
    "그 다음은,<br>\n",
    "\n",
    "<img src='img/Difficult_point_2.png' alt=\"Difficult Point 2\" width=800/><br>\n",
    "\n",
    "만든 `Hamiltonian`으로 고유값을 구하는 것이 쉽지 않습니다. 이론 상 풀수 있다 해도, 우리가 죽기 전에 다 푸는 것이 쉬운 문제들이 그리 많지 않습니다."
   ]
  },
  {
   "cell_type": "markdown",
   "metadata": {},
   "source": [
    "특히, <br>\n",
    "\n",
    "<img src='img/Difficult_point_3.png' alt=\"Difficult Point 3\" width=800/><br>\n",
    "\n",
    "기저상태 말고 그보다 에너지가 높은 상태를 푼다는 것은 더욱더 어렵습니다."
   ]
  },
  {
   "cell_type": "markdown",
   "metadata": {},
   "source": [
    "이런 어려움 때문에, 여러 연구자들이 오늘도 머리를 싸매며 연구를 하고 최대한 풀수 있는 문제로 가정하고 변환하여, 우리가 사는 동안 풀 수 있도록 노력하고 있습니다."
   ]
  },
  {
   "cell_type": "markdown",
   "metadata": {},
   "source": [
    "고전적으로, (물리학자들은 양자가 아닌 일반적인 역학 문제들을 고전이라고 부르는 습관이 있습니다.) 우리가 가진 계산기로, 즉 컴퓨터로 이런 행렬 문제를 풀기 위해서는 그 행렬의 갯수가 늘어날 수록 지수배에 가까운 계산 자원이 필요합니다."
   ]
  },
  {
   "cell_type": "markdown",
   "metadata": {},
   "source": [
    "양자 컴퓨터는 양자 상태를 이용하기 때문에, 이런 시뮬레이션을 직접 계산할 수 있다는 특징이 있습니다. 이런 특수한 컴퓨터를 돌리기 위해서는 기존의 알고리즘 말고 양자적인 계산 방법이 필요하겠죠. 그것이 바로 양자 컴퓨팅 입니다.<br>"
   ]
  },
  {
   "cell_type": "markdown",
   "metadata": {},
   "source": [
    "<div class=\"alert alert-danger\">\n",
    "   <div>\n",
    "       <big><b>주의</b></big>\n",
    "   </div>\n",
    "   <br>\n",
    "    양자 컴퓨터와 양자 컴퓨팅은 한 글자 차이지만 의미가 서로 다릅니다.\n",
    "    \n",
    "    양자 컴퓨터 - 큐빗을 이용한 양자 계산이 가능한 하드웨어 시스템을 의미하는 말\n",
    "    양자 컴퓨팅 - 양자 알고리즘을 이용한 양자 연산 과정이나 알고리즘 그 자체를 의미하는 말\n",
    "</div>"
   ]
  },
  {
   "cell_type": "markdown",
   "metadata": {},
   "source": [
    "이번 시간에는 아주 간단한 양자 알고리즘 몇개를 소개시켜드리면서, Qiskit을 활용하는 법을 배워보겠습니다. \n",
    "\n",
    "이 시간에 설명드리는 알고리즘은 지금 당장 이해하지 못하시더라도, 향후에 진행되는 양자 교육을 이수하시면서 다시 듣게되실 내용이시니, Qiskit을 연습한다는 기분으로 가볍게 시작해봅시다!\n",
    "\n",
    "---"
   ]
  },
  {
   "cell_type": "markdown",
   "metadata": {},
   "source": [
    "<div class=\"alert alert-warning\">\n",
    "   <div>\n",
    "       <big><b>Quiz Time!</b></big>\n",
    "   </div>\n",
    "   <br>\n",
    "    Quiz 01 Linear Algebra\n",
    "</div>"
   ]
  },
  {
   "cell_type": "markdown",
   "metadata": {},
   "source": [
    "### * 복습!"
   ]
  },
  {
   "cell_type": "markdown",
   "metadata": {},
   "source": [
    "앞으로 나오는 양자 알고리즘에선 양자 역학에서 많이 쓰이는 기호들이 나옵니다. 지난 시간 선형대수학을 이수하시면서 배웠던 내용이니 한번 복습하는 의미로 살펴봅시다."
   ]
  },
  {
   "cell_type": "markdown",
   "metadata": {},
   "source": [
    "1. 햇(hat)\n",
    "    $$\\hat{\\quad}$$ \n",
    "    햇(hat)이라고 불리며, 기호 그대로 모자 모양을 말합니다. 이 hat은 양자 역학적으로 Operator를 의미합니다. Operator는 선형대수적으로 표현한다면, n X n 행렬 꼴이됩니다.\n",
    "\n",
    "<br>\n",
    "\n",
    "2. 브라(bra)\n",
    "    $$\\langle\\quad|$$\n",
    "    브라(bra)이라고 불리며, 아래의 캣(ket)과 함께 braket notation이라고 불립니다. 이 bra은 양자 역학적으로 state를 의미합니다. 이 bra로 포현된 state는 수평 벡터로 표현됩니다.\n",
    "\n",
    "<br>\n",
    "\n",
    "3. 캣(ket)\n",
    "    $$|\\quad\\rangle$$\n",
    "    캣(ket)이라고 불리며, 위의 브라(bra)와 함께 braket notation이라고 불립니다. 이 ket은 양자 역학적으로 state를 의미합니다. 이 ket로 포현된 state는 수직 벡터로 표현됩니다."
   ]
  },
  {
   "cell_type": "markdown",
   "metadata": {},
   "source": [
    "예시)"
   ]
  },
  {
   "cell_type": "markdown",
   "metadata": {},
   "source": [
    "$$\\hat{A}|a\\rangle = |b\\rangle \\rightarrow \\left[\\begin{matrix}A_{11}&A_{12}\\\\A_{21}&A_{22}\\end{matrix}\\right]\\left(\\begin{matrix}a_{1}\\\\a_{2}\\end{matrix}\\right)=\\left(\\begin{matrix}b_{1}\\\\b_{2}\\end{matrix}\\right)$$"
   ]
  },
  {
   "cell_type": "markdown",
   "metadata": {},
   "source": [
    "$$\\langle a|b \\rangle\\rightarrow\\left(\\begin{matrix}a_{1}&a_{2}\\end{matrix}\\right)\\left(\\begin{matrix}b_{1}\\\\b_{2}\\end{matrix}\\right)=a_1b_1+a_2b_2$$"
   ]
  },
  {
   "cell_type": "markdown",
   "metadata": {},
   "source": [
    "$$|a\\rangle \\langle b| \\rightarrow\\left(\\begin{matrix}a_{1}\\\\a_{2}\\end{matrix}\\right)\\left(\\begin{matrix}b_{1}&b_{2}\\end{matrix}\\right)=\\left[\\begin{matrix}a_1b_1&a_1b_2\\\\a_2b_1&a_2b_2\\end{matrix}\\right]$$"
   ]
  },
  {
   "cell_type": "markdown",
   "metadata": {},
   "source": [
    "<div class=\"alert alert-warning\">\n",
    "   <div>\n",
    "       <big><b>Quiz Time!</b></big>\n",
    "   </div>\n",
    "   <br>\n",
    "    Quiz 02 Quantum Notation\n",
    "</div>"
   ]
  },
  {
   "cell_type": "markdown",
   "metadata": {},
   "source": [
    "### * Python in a Nutshell\n"
   ]
  },
  {
   "cell_type": "markdown",
   "metadata": {},
   "source": [
    "- 변수 선언"
   ]
  },
  {
   "cell_type": "code",
   "execution_count": null,
   "metadata": {},
   "outputs": [],
   "source": [
    "A = 1"
   ]
  },
  {
   "cell_type": "markdown",
   "metadata": {},
   "source": [
    "- 문자열"
   ]
  },
  {
   "cell_type": "code",
   "execution_count": null,
   "metadata": {},
   "outputs": [],
   "source": [
    "B = 'Hello'"
   ]
  },
  {
   "cell_type": "markdown",
   "metadata": {},
   "source": [
    "- 복소수"
   ]
  },
  {
   "cell_type": "code",
   "execution_count": null,
   "metadata": {},
   "outputs": [],
   "source": [
    "C = 1j"
   ]
  },
  {
   "cell_type": "markdown",
   "metadata": {},
   "source": [
    "- list\n"
   ]
  },
  {
   "cell_type": "code",
   "execution_count": null,
   "metadata": {},
   "outputs": [],
   "source": [
    "L = [1, 2, 3, 4]"
   ]
  },
  {
   "cell_type": "markdown",
   "metadata": {},
   "source": [
    "- 반복문"
   ]
  },
  {
   "cell_type": "code",
   "execution_count": null,
   "metadata": {},
   "outputs": [],
   "source": [
    "for i in range(4):\n",
    "    print(i)"
   ]
  },
  {
   "cell_type": "markdown",
   "metadata": {},
   "source": [
    "- 조건문   "
   ]
  },
  {
   "cell_type": "code",
   "execution_count": null,
   "metadata": {},
   "outputs": [],
   "source": [
    "if A == 1:\n",
    "    print(2)\n",
    "\n",
    "else:\n",
    "    print(A)"
   ]
  },
  {
   "cell_type": "markdown",
   "metadata": {},
   "source": [
    "- 행렬 만들기"
   ]
  },
  {
   "cell_type": "code",
   "execution_count": null,
   "metadata": {},
   "outputs": [],
   "source": [
    "M = [[1, 2], [3, 4]]"
   ]
  },
  {
   "cell_type": "markdown",
   "metadata": {},
   "source": [
    "- Bra, Ket 만들기"
   ]
  },
  {
   "cell_type": "code",
   "execution_count": null,
   "metadata": {},
   "outputs": [],
   "source": [
    "Bra = [0, 1]\n",
    "Ket = [[0], [1]]"
   ]
  },
  {
   "cell_type": "markdown",
   "metadata": {},
   "source": [
    "- 행렬 연산"
   ]
  },
  {
   "cell_type": "code",
   "execution_count": null,
   "metadata": {},
   "outputs": [],
   "source": [
    "import numpy as np\n",
    "\n",
    "M = np.array(M)\n",
    "\n",
    "Ket = np.array(Ket)\n",
    "\n",
    "print(M * Ket)"
   ]
  },
  {
   "cell_type": "markdown",
   "metadata": {},
   "source": [
    "### 1-2. Qiskit으로 양자 회로 만들기"
   ]
  },
  {
   "cell_type": "markdown",
   "metadata": {},
   "source": [
    "이번 시간에는 Qiskit으로 Bell State를 표현해 보겠습니다."
   ]
  },
  {
   "cell_type": "markdown",
   "metadata": {},
   "source": [
    "<div class=\"alert alert-info\">\n",
    "   <div>\n",
    "       <big><b>Bell State</b></big>\n",
    "   </div>\n",
    "   <br>\n",
    "    단순한 양자 얽힘 상태로, 위에서 배운 기호로 써보면 아래와 같습니다.<br>\n",
    "    <img src=\"https://latex.codecogs.com/svg.latex? |Bell\\rangle = \\frac{1}{\\sqrt 2}|00\\rangle+|11\\rangle\"/><br>\n",
    "</div>"
   ]
  },
  {
   "cell_type": "markdown",
   "metadata": {},
   "source": [
    "우선, Qiskit 패키지를 불러옵니다."
   ]
  },
  {
   "cell_type": "code",
   "execution_count": null,
   "metadata": {},
   "outputs": [],
   "source": [
    "# from qiskit import *"
   ]
  },
  {
   "cell_type": "markdown",
   "metadata": {},
   "source": [
    "우리가 만든 회로를 바로 확인할 수 있게, matplotlib 모듈도 불러옵니다."
   ]
  },
  {
   "cell_type": "code",
   "execution_count": null,
   "metadata": {},
   "outputs": [],
   "source": [
    "# import matplotlib.pyplot as plt\n",
    "# %matplotlib inline"
   ]
  },
  {
   "cell_type": "markdown",
   "metadata": {},
   "source": [
    "양자 회로는 `QuantumCircuit`이라는 것으로 설정할 수 있습니다. \n",
    "큐빗이 하나 있는 회로를 불러오겠습니다."
   ]
  },
  {
   "cell_type": "code",
   "execution_count": null,
   "metadata": {},
   "outputs": [],
   "source": [
    "# qc = QuantumCircuit(1)\n",
    "# qc.draw('mpl')"
   ]
  },
  {
   "cell_type": "markdown",
   "metadata": {},
   "source": [
    "큐빗을 설정 후 회로에 넣을 수도 있습니다. 이 경우, `QuantumRegister()`로 qubit을 지정합니다."
   ]
  },
  {
   "cell_type": "code",
   "execution_count": null,
   "metadata": {},
   "outputs": [],
   "source": [
    "# qr = QuantumRegister(1)\n",
    "# qc = QuantumCircuit(qr)\n",
    "# qc.draw('mpl')"
   ]
  },
  {
   "cell_type": "markdown",
   "metadata": {},
   "source": [
    "3개의 큐빗을 넣어볼까요?"
   ]
  },
  {
   "cell_type": "code",
   "execution_count": null,
   "metadata": {},
   "outputs": [],
   "source": [
    "# qr = QuantumRegister(3)\n",
    "# qc = QuantumCircuit(qr)\n",
    "# qc.draw('mpl')"
   ]
  },
  {
   "cell_type": "markdown",
   "metadata": {},
   "source": [
    "q뒤의 숫자가 0에서 1로 바뀌고 아랫첨자가 생겼습니다. 이는 우리가 만든 Register 인스턴스가 여러개 존재하여 차례로 0부터 숫자가 부여되기 때문입니다.\n",
    "\n",
    "(인스턴스가 어떤 의미인지 잘 모르시겠다면, Python 강의 중 클래스 부분에서 확인하시면 됩니다.)"
   ]
  },
  {
   "cell_type": "markdown",
   "metadata": {},
   "source": [
    "Classical Bit는 `ClassicalRegister()`로 넣을 수 있습니다."
   ]
  },
  {
   "cell_type": "code",
   "execution_count": null,
   "metadata": {},
   "outputs": [],
   "source": [
    "# qr = QuantumRegister(3)\n",
    "# cr = ClassicalRegister(3)\n",
    "# qc = QuantumCircuit(qr, cr)\n",
    "# qc.draw('mpl')"
   ]
  },
  {
   "cell_type": "markdown",
   "metadata": {},
   "source": [
    "Registor를 사용하지 않고, 좀더 간단하게 쓰고 싶다면 아래와 같이 회로를 만들어도 됩니다."
   ]
  },
  {
   "cell_type": "code",
   "execution_count": null,
   "metadata": {},
   "outputs": [],
   "source": [
    "# qc = QuantumCircuit(3, 3)\n",
    "# qc.draw('mpl')"
   ]
  },
  {
   "cell_type": "markdown",
   "metadata": {},
   "source": [
    "이제 간단한 얽힘 상태인 Bell state를 만들어 봅시다.<br>\n",
    "\n",
    "$|\\textnormal{Bell} \\rangle = \\frac{1}{\\sqrt{2}}(|00\\rangle + |11\\rangle)$"
   ]
  },
  {
   "cell_type": "markdown",
   "metadata": {},
   "source": [
    "첫번째 Qubit에 Hadamard 게이트를 가하고, 첫번째 큐빗을 control로 두번째 큐빗은 target으로 하는 CNOT 게이트를 가하면 Bell state가 생성됩니다.<br>\n",
    "\n",
    "- 증명\n",
    "\n",
    "    $|0\\rangle_0|0\\rangle_1 \\xrightarrow{\\textnormal{Hadamard to first qubit}} \\frac{1}{\\sqrt{2}}(|00\\rangle + |10\\rangle)\\xrightarrow{\\textnormal{CNOT}}\\frac{1}{\\sqrt{2}}(|00\\rangle + |11\\rangle)$"
   ]
  },
  {
   "cell_type": "markdown",
   "metadata": {},
   "source": [
    "Qiskit에서 각 게이트를 가하는 방법은 `QuantumCircuit`으로 명명된 인스턴스에, 점(`.`)을 찍고 뒤에 게이트 메소드를 붙이면 됩니다. 가할 큐빗의 index번호를 괄호안에 넣으면 됩니다.<br>\n",
    "\n",
    "- 예시)\n",
    "\n",
    "    - Single Qubit Gate<br>\n",
    "        Hadamard: .h( )<br>\n",
    "        X: .x( )<br>\n",
    "\n",
    "    - Two Qubit Gate<br>\n",
    "        CNOT: .cx( ,  )<br>"
   ]
  },
  {
   "cell_type": "code",
   "execution_count": null,
   "metadata": {},
   "outputs": [],
   "source": [
    "# qc = QuantumCircuit(2)\n",
    "# qc.h(0)\n",
    "# qc.cx(0, 1)\n",
    "\n",
    "# qc.draw('mpl')"
   ]
  },
  {
   "cell_type": "markdown",
   "metadata": {},
   "source": [
    "`qc.h(n)`는 회로의 n번째 큐빗에 Hadamard 게이트를 가하라는 뜻입니다.<br>\n",
    "`qc.cx(a, b)`는 a와 b큐빗간의 CNOT 게이트를 가하라는 의미입니다."
   ]
  },
  {
   "cell_type": "markdown",
   "metadata": {},
   "source": [
    "이 회로로 우리는 Bell 상태를 만들어 냈습니다. 하지만, 과연 제대로 만들어 졌을까요? 위의 회로를 보고 우리의 결과를 계산해야 할까요?"
   ]
  },
  {
   "cell_type": "markdown",
   "metadata": {},
   "source": [
    "다행히도 게이트들이 적용 된 뒤 회로의 큐빗 들의 상태는 어떻게 되었을지 확인하는 방법이 있습니다.<br>"
   ]
  },
  {
   "cell_type": "markdown",
   "metadata": {},
   "source": [
    "<div class=\"alert alert-warning\">\n",
    "   <div>\n",
    "       <big><b>Quiz</b></big>\n",
    "   </div>\n",
    "   <br>\n",
    "    Quiz 03~04\n",
    "</div>"
   ]
  },
  {
   "cell_type": "markdown",
   "metadata": {},
   "source": [
    "먼저, 가장 간단하게 확인하는 방법을 소개해드립니다.<br>\n",
    "\n",
    "`Statevector`를 호출하여 전체 회로의 큐빗 상태를 확인할 수 있습니다."
   ]
  },
  {
   "cell_type": "code",
   "execution_count": null,
   "metadata": {},
   "outputs": [],
   "source": [
    "# from qiskit.visualization.array import array_to_latex\n",
    "\n",
    "# from qiskit.quantum_info import Statevector\n",
    "\n",
    "# array_to_latex(Statevector(qc))"
   ]
  },
  {
   "cell_type": "markdown",
   "metadata": {},
   "source": [
    "`StatevectorSimulator`로 확인하는 방법입니다."
   ]
  },
  {
   "cell_type": "code",
   "execution_count": null,
   "metadata": {},
   "outputs": [],
   "source": [
    "# from qiskit_aer import StatevectorSimulator\n",
    "\n",
    "# backend = StatevectorSimulator()\n",
    "# array_to_latex(backend.run(qc).result().get_statevector())"
   ]
  },
  {
   "cell_type": "markdown",
   "metadata": {},
   "source": [
    "다음은 `AerSimulator`로 확인해 봅시다."
   ]
  },
  {
   "cell_type": "code",
   "execution_count": null,
   "metadata": {},
   "outputs": [],
   "source": [
    "# from qiskit_aer import AerSimulator\n",
    "\n",
    "# qc.save_statevector()\n",
    "# backend = AerSimulator()\n",
    "# backend.run(qc).result().data(0)['statevector']"
   ]
  },
  {
   "cell_type": "markdown",
   "metadata": {},
   "source": [
    "위의 시뮬레이터들은 큐빗의 값을 측정하지 않고 시뮬레이션 한 결과값입니다.<br>\n",
    "양자 상태는 측정 하는 순간 상태가 고정되기에 측정이 매우 중요한 부분입니다.<br>\n",
    "이번에는 시뮬레이션으로 측정하여 결과를 비교해 보겠습니다.<br>\n",
    "\n",
    "회로에서 큐빗의 상태를 측정하는 과정을 넣습니다."
   ]
  },
  {
   "cell_type": "code",
   "execution_count": null,
   "metadata": {},
   "outputs": [],
   "source": [
    "# qc.measure_all()\n",
    "# qc.draw('mpl')"
   ]
  },
  {
   "cell_type": "code",
   "execution_count": null,
   "metadata": {},
   "outputs": [],
   "source": [
    "# from qiskit.visualization import plot_histogram\n",
    "\n",
    "# backend = AerSimulator()\n",
    "# counts = backend.run(qc, shots=100000).result().get_counts()\n",
    "# plot_histogram(counts)"
   ]
  },
  {
   "cell_type": "markdown",
   "metadata": {},
   "source": [
    "\n",
    "### A Note about Quantum Simulators\n",
    "\n",
    "`qiskit_aer`는 Qiskit의 시뮬레이션 패키지로, 다음과 같은 시뮬레이터 들을 보유하고 있습니다\n",
    "- [AerSimulator](https://qiskit.org/ecosystem/aer/stubs/qiskit_aer.AerSimulator.html#qiskit_aer.AerSimulator)\n",
    "- [QasmSimulator](https://qiskit.org/ecosystem/aer/stubs/qiskit_aer.QasmSimulator.html#qiskit_aer.QasmSimulator)\n",
    "- [StatevectorSimulator](https://qiskit.org/ecosystem/aer/stubs/qiskit_aer.StatevectorSimulator.html#qiskit_aer.StatevectorSimulator)\n",
    "- [UnitarySimulator](https://qiskit.org/ecosystem/aer/stubs/qiskit_aer.UnitarySimulator.html#qiskit_aer.UnitarySimulator)\n",
    "\n",
    "위의 시뮬레이터들은 noise가 없는 이상적인 상태를 시뮬레이션한 결과를 보여줍니다.\n",
    "만약 실제 장비의 noise를 포함하여 계산한다면 어떤 결과가 나올까요?"
   ]
  },
  {
   "cell_type": "markdown",
   "metadata": {},
   "source": [
    "`ibmq_vigo` 장비를 사용하여 해당 장비의 노이즈(에러값)을 시뮬레이션 해보겠습니다."
   ]
  },
  {
   "cell_type": "code",
   "execution_count": null,
   "metadata": {},
   "outputs": [],
   "source": [
    "# from qiskit.providers.fake_provider import FakeVigo\n",
    "# device_backend = FakeVigo()"
   ]
  },
  {
   "cell_type": "code",
   "execution_count": null,
   "metadata": {},
   "outputs": [],
   "source": [
    "# sim_noise = AerSimulator.from_backend(device_backend)"
   ]
  },
  {
   "cell_type": "code",
   "execution_count": null,
   "metadata": {},
   "outputs": [],
   "source": [
    "# # Transpile the circuit for the noisy basis gates\n",
    "# tcirc = transpile(qc, sim_noise)\n",
    "\n",
    "# # Execute noisy simulation and get counts\n",
    "# result_noise = sim_noise.run(tcirc).result()\n",
    "# counts_noise = result_noise.get_counts(0)\n",
    "# plot_histogram(counts_noise)"
   ]
  },
  {
   "cell_type": "markdown",
   "metadata": {},
   "source": [
    "이상값과 다르게 `01`과 `10` state가 결과로 나오는 것을 알 수 있습니다. shot을 더 추가한다면,"
   ]
  },
  {
   "cell_type": "code",
   "execution_count": null,
   "metadata": {},
   "outputs": [],
   "source": [
    "# result_noise = sim_noise.run(tcirc, shots=10000).result()\n",
    "# counts_noise = result_noise.get_counts(0)\n",
    "# plot_histogram(counts_noise)"
   ]
  },
  {
   "cell_type": "markdown",
   "metadata": {},
   "source": [
    "`ibm_vigo`의 에러율은 아래와 같이 볼 수 있습니다."
   ]
  },
  {
   "cell_type": "code",
   "execution_count": null,
   "metadata": {},
   "outputs": [],
   "source": [
    "# from qiskit.visualization import plot_error_map\n",
    "# plot_error_map(device_backend)"
   ]
  },
  {
   "cell_type": "markdown",
   "metadata": {},
   "source": [
    "`ibm eagle` processor의 error map도 다음과 같이 볼 수 있습니다."
   ]
  },
  {
   "cell_type": "code",
   "execution_count": null,
   "metadata": {},
   "outputs": [],
   "source": [
    "# from qiskit_ibm_provider import IBMProvider\n",
    "# from qiskit_ibm_provider import least_busy\n",
    "\n",
    "# provider = IBMProvider()\n",
    "\n",
    "# backend = provider.get_backend('ibm_sherbrooke')\n",
    "# plot_error_map(backend)"
   ]
  },
  {
   "cell_type": "markdown",
   "metadata": {},
   "source": [
    "이런 식으로 양자 회로를 만들어서, 시뮬레이션 할 수 있습니다.<br>\n",
    "시뮬레이션의 중요한 점은 실제 양자 컴퓨터를 가동하기 위한 비용을 절감하고, 예측을 통해 회로를 최적화 할 수 있다는 점입니다."
   ]
  },
  {
   "cell_type": "markdown",
   "metadata": {},
   "source": [
    "이번엔 실제 양자 컴퓨터로 Bell state 계산이 어떻게 되는지 확인해 보겠습니다. 가장 Queue가 적은 양자 컴퓨터를 예약하여 계산하도록 하죠."
   ]
  },
  {
   "cell_type": "code",
   "execution_count": null,
   "metadata": {},
   "outputs": [],
   "source": [
    "# from qiskit_ibm_provider import IBMProvider\n",
    "# from qiskit_ibm_provider import least_busy\n",
    "\n",
    "# provider = IBMProvider()\n",
    "\n",
    "# backend = least_busy(provider.backends())\n",
    "# backend"
   ]
  },
  {
   "cell_type": "markdown",
   "metadata": {},
   "source": [
    "이제 회로를 실제 양자 컴퓨터 회로에 들어가도록 구성을 바꾸어 봅시다.<br>\n",
    "이 과정에서 우리가 사용했던 여러 gate들(CNOT, H, CX, Z 등등)이 실제 양자컴퓨터에서 사용할 수 있는 Gate Operator로 변환됩니다. 이를 `transpile`을 사용해서 변환합니다.<br>\n",
    "\n",
    "(`qc` 회로에 statevector 측정 부분이 있어, transpile이 되지 않으므로 회로를 새로 그리거나 그 부분을 삭제해야 합니다.)"
   ]
  },
  {
   "cell_type": "code",
   "execution_count": null,
   "metadata": {},
   "outputs": [],
   "source": [
    "# qc = QuantumCircuit(2)\n",
    "# qc.h(0)\n",
    "# qc.cx(0, 1)\n",
    "# qc.measure_all()\n",
    "\n",
    "# # or\n",
    "\n",
    "# # qc.data.pop(3)\n",
    "\n",
    "# qc_rb = transpile(qc, backend)\n",
    "# real_job = backend.run(qc_rb, shots = 10000)\n",
    "# real_job.job_id()"
   ]
  },
  {
   "cell_type": "code",
   "execution_count": null,
   "metadata": {},
   "outputs": [],
   "source": [
    "# job = provider.retrieve_job('cihno7b5n9v6ta1duu30')\n",
    "# job.status()"
   ]
  },
  {
   "cell_type": "markdown",
   "metadata": {},
   "source": [
    "진행중인 Job 상황은 IBM Quantum 에서 확인 할 수 있습니다.\n",
    "\n",
    "<img src='img/Job.png' alt=\"Alternative text\" width=400/>"
   ]
  },
  {
   "cell_type": "markdown",
   "metadata": {},
   "source": [
    "보시는 바와 같이 Queue가 적은 양자 컴퓨터를 골랐음에도, 대기중인 상태인 것을 확인할 수 있습니다."
   ]
  },
  {
   "cell_type": "code",
   "execution_count": null,
   "metadata": {},
   "outputs": [],
   "source": [
    "# result_real = job.result()\n",
    "# counts_real = result_real.get_counts()\n",
    "# plot_histogram(counts_real)"
   ]
  },
  {
   "cell_type": "markdown",
   "metadata": {},
   "source": [
    "## 2. 양자 알고리즘"
   ]
  },
  {
   "cell_type": "markdown",
   "metadata": {},
   "source": [
    "이번 시간에는 유명한 알고리즘 두개를 소개하며, Qiskit으로 실습해보는 시간을 가져보겠습니다."
   ]
  },
  {
   "cell_type": "markdown",
   "metadata": {},
   "source": [
    "### 2-1. Grover's Algorithm"
   ]
  },
  {
   "cell_type": "markdown",
   "metadata": {},
   "source": [
    "그로버 알고리즘은 양자 이득을 보여주는 알고리즘 중 하나로, 어떤 상태를 찾는데 특화된 알고리즘입니다. 이 알고리즘을 기반으로 양자 몬테카를로 시뮬레이션에서 쓰이는 Quantum Amplitude Estimation이라는 알고리즘도 개발되었습니다.<br>\n",
    "그로버 알고리즘이 뭔지 알아보기 위해, 무려 <b>a4 3장정도 되는 긴 수식!</b>을 가져오지 않았고, 그림으로 간단하게 설명 드리겠습니다. 😁"
   ]
  },
  {
   "cell_type": "markdown",
   "metadata": {},
   "source": [
    "[그로버 알고리즘](./Grover_algorithm_animation.pptx)"
   ]
  },
  {
   "cell_type": "markdown",
   "metadata": {},
   "source": [
    "이 그로버 알고리즘으로 퍼즐을 하나 풀어보는 실습을 해봅시다!"
   ]
  },
  {
   "cell_type": "markdown",
   "metadata": {},
   "source": [
    "- Light Out!"
   ]
  },
  {
   "cell_type": "markdown",
   "metadata": {},
   "source": [
    "Light Out은 불빛이 켜지거나 꺼지는 격자 조작 퍼즐입니다.<br> 각 격자는 스위치 역할을 하여, 스위치를 누를 때마다 그 스위치와 인접한 스위치의 상태가 변합니다. (On↔Off)<br>\n",
    "\n",
    "Light Out의 `목표`는 스위치를 작동하여 모든 격자의 불을 끄는 것입니다."
   ]
  },
  {
   "cell_type": "markdown",
   "metadata": {},
   "source": [
    "`[0,0,1,0]`"
   ]
  },
  {
   "cell_type": "markdown",
   "metadata": {},
   "source": [
    "이 경우 불을 모두 끄려면 아래의 4단계를 거쳐야 합니다. <br>\n",
    "\n",
    "|1|2|3|4|\n",
    "|:---:|:---:|:---:|:---:|\n",
    "|<img src='img/LightOut0010.png' alt=\"Alternative text\" width=200/>|<img src='img/LightOut1100.png' alt=\"Alternative text\" width=200/>|<img src='img/LightOut1011.png' alt=\"Alternative text\" width=200/>|<img src='img/LightOut0000.png' alt=\"Alternative text\" width=200/>|"
   ]
  },
  {
   "cell_type": "markdown",
   "metadata": {},
   "source": [
    "결과적으로 눌러야 할 스위치는 (push, none, push, push)가 됩니다.<br>\n",
    "이를 단순하게 확인하려면 2^4 = 16번의 계산을 거쳐야 하죠."
   ]
  },
  {
   "cell_type": "markdown",
   "metadata": {},
   "source": [
    "이제 양자 회로를 만들어 Light Out 문제를 해결해보겠습니다.\n",
    "우선 격자를 양자 회로에 넣을 수 있게 시작해보죠."
   ]
  },
  {
   "cell_type": "code",
   "execution_count": null,
   "metadata": {},
   "outputs": [],
   "source": [
    "def map_board(lights, qc, qr):\n",
    "    j = 0\n",
    "    for i in lights:\n",
    "        if i==1:\n",
    "            qc.x(qr[j])\n",
    "            j+=1\n",
    "        else:\n",
    "            j+=1"
   ]
  },
  {
   "cell_type": "code",
   "execution_count": null,
   "metadata": {},
   "outputs": [],
   "source": [
    "from qiskit import QuantumCircuit, ClassicalRegister, QuantumRegister\n",
    "\n",
    "tile = QuantumRegister(4)\n",
    "flip = QuantumRegister(4)\n",
    "oracle = QuantumRegister(1)\n",
    "result = ClassicalRegister(4)\n",
    "\n",
    "qc = QuantumCircuit(oracle, tile, flip, result)"
   ]
  },
  {
   "cell_type": "code",
   "execution_count": null,
   "metadata": {},
   "outputs": [],
   "source": [
    "lights = [0,0,1,0]\n",
    "\n",
    "def initialize():\n",
    "    map_board(lights, qc, tile)\n",
    "\n",
    "    qc.h(flip[:])\n",
    "    \n",
    "    qc.x(oracle[0])\n",
    "    qc.h(oracle[0])\n",
    "\n",
    "def flip_tile(qc, flip, tile):\n",
    "    \n",
    "    # push 0\n",
    "    \n",
    "    # Your Code\n",
    "\n",
    "    # push 1\n",
    "    \n",
    "    # Your Code\n",
    "\n",
    "    # push 2\n",
    "    \n",
    "    # Your Code\n",
    "\n",
    "    # push 3\n",
    "    \n",
    "    # Your Code\n",
    "    \n",
    "def all_zero(qc, tile):\n",
    "    qc.x(tile[0:4])\n",
    "    qc.mct(tile[0:4], oracle[0])\n",
    "    qc.x(tile[0:4])"
   ]
  },
  {
   "cell_type": "markdown",
   "metadata": {},
   "source": [
    "회로를 초기화 하고,"
   ]
  },
  {
   "cell_type": "code",
   "execution_count": null,
   "metadata": {},
   "outputs": [],
   "source": [
    "# create the circuit\n",
    "initialize()\n",
    "qc.barrier()"
   ]
  },
  {
   "cell_type": "markdown",
   "metadata": {},
   "source": [
    "<div class=\"alert alert-warning\">\n",
    "   <div>\n",
    "       <big><b>Quiz</b></big>\n",
    "   </div>\n",
    "   <br>\n",
    "    Quiz 05\n",
    "</div>"
   ]
  },
  {
   "cell_type": "markdown",
   "metadata": {},
   "source": [
    "Diffusion은 $\\frac{\\pi}{4} \\sqrt{2^4} - \\frac{1}{2} \\risingdotseq 2.641$ 이므로 3회 정도 반복해야 합니다."
   ]
  },
  {
   "cell_type": "code",
   "execution_count": null,
   "metadata": {},
   "outputs": [],
   "source": [
    "# the number of iteration is 3\n",
    "for i in range(3):\n",
    "    # oracle\n",
    "    flip_tile(qc,flip,tile)\n",
    "    \n",
    "    qc.barrier()\n",
    "    \n",
    "    all_zero(qc, tile)\n",
    "    \n",
    "    qc.barrier()\n",
    "    \n",
    "    # U^dagger of flip_tile function is flip_tile itself.\n",
    "    flip_tile(qc,flip,tile)\n",
    "    \n",
    "    # diffusion\n",
    "    qc.h(flip)\n",
    "    qc.x(flip)\n",
    "    qc.h(flip[3])\n",
    "    qc.mct(flip[0:3], flip[3])\n",
    "    qc.h(flip[3])\n",
    "    qc.x(flip)\n",
    "    qc.h(flip)\n",
    "    qc.barrier()"
   ]
  },
  {
   "cell_type": "markdown",
   "metadata": {},
   "source": [
    "이제 이 결과들을 측정하고, qubit을 우리가 아는 순서대로 뒤집어 줍니다."
   ]
  },
  {
   "cell_type": "code",
   "execution_count": null,
   "metadata": {},
   "outputs": [],
   "source": [
    "# Uncompute\n",
    "qc.h(oracle[0])\n",
    "qc.x(oracle[0])\n",
    "qc.barrier()\n",
    "\n",
    "# Measurement\n",
    "qc.measure(flip,result)\n",
    "qc.barrier()\n",
    "# Make the Out put order the same as the input.\n",
    "qc = qc.reverse_bits() "
   ]
  },
  {
   "cell_type": "markdown",
   "metadata": {},
   "source": [
    "이를 회로로 나타내면 아래와 같습니다."
   ]
  },
  {
   "cell_type": "code",
   "execution_count": null,
   "metadata": {},
   "outputs": [],
   "source": [
    "qc.draw(output='mpl')"
   ]
  },
  {
   "cell_type": "markdown",
   "metadata": {},
   "source": [
    "이제 시뮬레이션에 돌려 봅시다."
   ]
  },
  {
   "cell_type": "code",
   "execution_count": null,
   "metadata": {},
   "outputs": [],
   "source": [
    "backend = AerSimulator()\n",
    "counts = backend.run(qc, shots=100000).result().get_counts()\n",
    "plot_histogram(counts)"
   ]
  },
  {
   "cell_type": "markdown",
   "metadata": {},
   "source": [
    "1011 값이 나옵니다. 이는 1번째, 3번째, 4번째 스위치를 누르면 된다는 뜻입니다.<br>\n",
    "이처럼 양자 알고리즘을 사용하면 결과값을 바로 찾을 수 있게 됩니다."
   ]
  },
  {
   "cell_type": "code",
   "execution_count": null,
   "metadata": {},
   "outputs": [],
   "source": [
    "def toggle(grid, x, y):\n",
    "    grid[x][y] = not grid[x][y]\n",
    "    if x > 0:\n",
    "        grid[x-1][y] = not grid[x-1][y]\n",
    "    if x < len(grid) - 1:\n",
    "        grid[x+1][y] = not grid[x+1][y]\n",
    "    if y > 0:\n",
    "        grid[x][y-1] = not grid[x][y-1]\n",
    "    if y < len(grid[0]) - 1:\n",
    "        grid[x][y+1] = not grid[x][y+1]\n",
    "    return grid\n",
    "\n",
    "def solve_lights_out(grid):\n",
    "    toggle_counter = 0\n",
    "    for i in range(len(grid)):\n",
    "        for j in range(len(grid[i])):\n",
    "            if grid[i][j]:\n",
    "                grid = toggle(grid, i, j)\n",
    "                toggle_counter += 1\n",
    "    return grid, toggle_counter\n",
    "\n",
    "grid = [[0, 0], [1, 0]]\n",
    "print(\"초기 상태\")\n",
    "for row in grid:\n",
    "    print(row)\n",
    "\n",
    "solved_grid, toggle_count = solve_lights_out(grid)\n",
    "print(\"\\n누르는 스위치\")\n",
    "for row in solved_grid:\n",
    "    print(row)\n",
    "\n",
    "print(f\"\\nNumber of toggles: {toggle_count}\")"
   ]
  },
  {
   "cell_type": "code",
   "execution_count": null,
   "metadata": {},
   "outputs": [],
   "source": [
    "def toggle(grid, x, y):\n",
    "    grid[x][y] = not grid[x][y]\n",
    "    if x > 0:\n",
    "        grid[x-1][y] = not grid[x-1][y]\n",
    "    if x < len(grid) - 1:\n",
    "        grid[x+1][y] = not grid[x+1][y]\n",
    "    if y > 0:\n",
    "        grid[x][y-1] = not grid[x][y-1]\n",
    "    if y < len(grid[0]) - 1:\n",
    "        grid[x][y+1] = not grid[x][y+1]\n",
    "    return grid\n",
    "\n",
    "def solve_lights_out(grid):\n",
    "    toggle_counter = 0\n",
    "    for i in range(len(grid)):\n",
    "        for j in range(len(grid[i])):\n",
    "            if grid[i][j]:\n",
    "                grid = toggle(grid, i, j)\n",
    "                toggle_counter += 1\n",
    "    return grid, toggle_counter\n",
    "\n",
    "grid = [[1, 0, 1], [0, 1, 0], [1, 0, 1]]\n",
    "print(\"초기 상태\")\n",
    "for row in grid:\n",
    "    print(row)\n",
    "\n",
    "solved_grid, toggle_count = solve_lights_out(grid)\n",
    "print(\"\\n누르는 스위치\")\n",
    "for row in solved_grid:\n",
    "    print(row)\n",
    "\n",
    "print(f\"\\nNumber of toggles: {toggle_count}\")"
   ]
  },
  {
   "cell_type": "markdown",
   "metadata": {},
   "source": [
    "---"
   ]
  }
 ],
 "metadata": {
  "language_info": {
   "name": "python"
  },
  "orig_nbformat": 4
 },
 "nbformat": 4,
 "nbformat_minor": 2
}
